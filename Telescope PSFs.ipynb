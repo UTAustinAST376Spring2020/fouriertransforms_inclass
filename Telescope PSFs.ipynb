{
 "cells": [
  {
   "cell_type": "code",
   "execution_count": null,
   "metadata": {
    "collapsed": true
   },
   "outputs": [],
   "source": [
    "import numpy as np\n",
    "import matplotlib.pyplot as plt"
   ]
  },
  {
   "cell_type": "code",
   "execution_count": null,
   "metadata": {},
   "outputs": [],
   "source": [
    "# Our first step is to create a \"scene\" on the sky, populating a chunk of sky with point sources.\n",
    "# Though to start, we probably just want one point source. So we'll make a blank image, and then\n",
    "# put a point source in the middle:\n",
    "\n",
    "a0=np.zeros([301,301])\n",
    "a0[150,150] = 301**2\n",
    "# Note, if you wanted to make more \"stars\", you could do this here.\n",
    "\n",
    "\n",
    "# And to make sure everything works, let's plot the image:\n",
    "\n",
    "plt.figure(figsize=(12,12))\n",
    "plt.imshow(a0)\n",
    "plt.colorbar()\n",
    "plt.tight_layout(); plt.show(); plt.close()"
   ]
  },
  {
   "cell_type": "code",
   "execution_count": null,
   "metadata": {},
   "outputs": [],
   "source": [
    "# Now that we have a chunk of sky, let's simulate observing it - or more specifically, what the\n",
    "# wavefront of light would look like when it gets to us.\n",
    "#\n",
    "# To do this, we take the inverse fourier transform (ifft2) of the scene on the sky.\n",
    "\n",
    "a1 = np.fft.ifft2(a0) # Note, fftshift would move \"zero\" to the middle, in case we need to worry about phase\n",
    "\n",
    "#And again, let's plot it. For display purposes, let's show the \"amplitude\" (power) using the np.abs command.\n",
    "\n",
    "plt.figure(figsize=(12,12))\n",
    "plt.imshow(np.abs(a1)**2)\n",
    "plt.colorbar()\n",
    "plt.tight_layout(); plt.show(); plt.close()"
   ]
  },
  {
   "cell_type": "code",
   "execution_count": null,
   "metadata": {},
   "outputs": [],
   "source": [
    "# Now we want to define a telescope aperture for the light to pass through (or not pass through).\n",
    "# So again we make a blank image, then set parts of it equal to 1 where the light should pass through.\n",
    "#\n",
    "# Note that lines 2-4 of this little snippet of code can be used to reference all pixels within a\n",
    "# user-defined distance of a user-defined point. This is very handy for image manipulation.\n",
    "\n",
    "m1 = np.zeros([301,301])\n",
    "telradius=30\n",
    "xx,yy = np.meshgrid(np.arange(301)-150,np.arange(301)-150)\n",
    "r=np.hypot(xx,yy)\n",
    "m1[np.where(r<telradius)] = 1\n",
    "\n",
    "# Note that if you wanted to define a central obstruction, this is where you'd do it. \n",
    "# But if you have a coronagraph, note that it changes how it behaves and you might need to change the Lyot stop.\n",
    "\n",
    "# Note that if you wanted to define \"spiders\" (the structure holding the secondary mirror), you can do it here too.\n",
    "\n",
    "\n",
    "# And now let's plot our aperture model.'\n",
    "\n",
    "plt.figure(figsize=(12,12))\n",
    "plt.imshow(m1)\n",
    "plt.colorbar()\n",
    "plt.tight_layout(); plt.show(); plt.close()"
   ]
  },
  {
   "cell_type": "code",
   "execution_count": null,
   "metadata": {},
   "outputs": [],
   "source": [
    "# Now that we have an incoming wavefront and an aperture model, we can multiply them to get\n",
    "# the wavefront that passes through the aperture.\n",
    "\n",
    "a1m1 = a1*m1\n",
    "\n",
    "# And plot it.\n",
    "\n",
    "plt.figure(figsize=(12,12))\n",
    "plt.imshow(np.abs(a1m1)**2)\n",
    "plt.colorbar()\n",
    "plt.tight_layout(); plt.show(); plt.close()"
   ]
  },
  {
   "cell_type": "code",
   "execution_count": null,
   "metadata": {},
   "outputs": [],
   "source": [
    "# Now we take the Fourier transform (fft2) to produce the light distribution in the focal plane.\n",
    "# If this is squared, it's the \"point spread function\" or PSF.\n",
    "\n",
    "a2 = np.fft.fft2(a1m1)\n",
    "\n",
    "# And make an image of the PSF. Note that in this case, we want to change the stretch so we see the wings.\n",
    "# An easy way to do this is to plot the square root, third root, or more.\n",
    "\n",
    "plt.figure(figsize=(12,12))\n",
    "plt.imshow( (np.abs(a2)**2)**0.25 )\n",
    "plt.colorbar()\n",
    "plt.tight_layout(); plt.show(); plt.close()"
   ]
  },
  {
   "cell_type": "code",
   "execution_count": null,
   "metadata": {},
   "outputs": [],
   "source": [
    "# Bonus exercise - now we define a Lyot coronagraph (hard-edged opaque circle) as a model array.\n",
    "\n",
    "m2 = np.zeros([301,301])\n",
    "m2 = m2 + 1\n",
    "corradius = 30\n",
    "xx,yy = np.meshgrid(np.arange(301)-150,np.arange(301)-150)\n",
    "r = np.hypot(xx,yy)\n",
    "m2[np.where(r<corradius)] = 0\n",
    "\n",
    "# And plot it.\n",
    "\n",
    "plt.figure(figsize=(12,12))\n",
    "plt.imshow(m2)\n",
    "plt.colorbar()\n",
    "plt.tight_layout(); plt.show(); plt.close()"
   ]
  },
  {
   "cell_type": "code",
   "execution_count": null,
   "metadata": {
    "scrolled": false
   },
   "outputs": [],
   "source": [
    "# And then we multiply the Lyot coronagraph \"aperture model\" and the wavefront at the focal plane.\n",
    "\n",
    "a2m2 = a2*m2\n",
    "\n",
    "# And plot it.\n",
    "\n",
    "plt.figure(figsize=(12,12))\n",
    "plt.imshow( (np.abs(a2m2)**2)**0.25 )\n",
    "plt.colorbar()\n",
    "plt.tight_layout(); plt.show(); plt.close()"
   ]
  },
  {
   "cell_type": "code",
   "execution_count": null,
   "metadata": {},
   "outputs": [],
   "source": [
    "# But we can't stop just yet. We now need a collimator to bring the light back to being\n",
    "# \"collimated\", with focus at infinity, so we can do more manipulation.\n",
    "\n",
    "a3=np.fft.ifft2(a2m2)\n",
    "\n",
    "# And plot it.\n",
    "\n",
    "plt.figure(figsize=(12,12))\n",
    "plt.imshow(np.abs(a3)**2)\n",
    "plt.colorbar()\n",
    "plt.tight_layout(); plt.show(); plt.close()"
   ]
  },
  {
   "cell_type": "code",
   "execution_count": null,
   "metadata": {},
   "outputs": [],
   "source": [
    "# All the residual light has now diffracted around the coronagraph, and most of the intensity is\n",
    "# at a couple of distinct radii. So we want to make a \"pupil stop\" or \"Lyot stop\" model.\n",
    "\n",
    "m3 = np.zeros([301,301])\n",
    "m3 = m3 + 1\n",
    "xx,yy = np.meshgrid(np.arange(301)-150,np.arange(301)-150)\n",
    "r = np.hypot(xx,yy)\n",
    "lyot1=25\n",
    "lyot2=33\n",
    "m3[np.where((r>lyot1) & (r<lyot2))] = 0\n",
    "\n",
    "# And plot it.\n",
    "\n",
    "plt.figure(figsize=(12,12))\n",
    "plt.imshow(m3)\n",
    "plt.colorbar()\n",
    "plt.tight_layout(); plt.show(); plt.close()"
   ]
  },
  {
   "cell_type": "code",
   "execution_count": null,
   "metadata": {},
   "outputs": [],
   "source": [
    "# As at the focal plane, we now want to multiply the incoming wavefront and the Lyot stop model to show\n",
    "# what passes onward along the optical path.\n",
    "\n",
    "a3m3 = a3*m3\n",
    "\n",
    "# And plot it.\n",
    "\n",
    "plt.figure(figsize=(12,12))\n",
    "plt.imshow(np.abs(a3m3)**2)\n",
    "plt.colorbar()\n",
    "plt.tight_layout(); plt.show(); plt.close()"
   ]
  },
  {
   "cell_type": "code",
   "execution_count": null,
   "metadata": {},
   "outputs": [],
   "source": [
    "# Finally, we Fourier transform that wavefront one more time, to show what it looks like in the final focal plane\n",
    "# with the effects of the coronagraph and the Lyot stop.\n",
    "\n",
    "a4 = np.fft.fft2(a3m3)\n",
    "\n",
    "# And we plot it. We should see that not only is light blocked in the center, but the Airy rings that are\n",
    "# nominally \"beyond\" the coronagraph are also suppressed. And thus we see the magical effect of treating\n",
    "# light like a wave, and not just particles.\n",
    "\n",
    "plt.figure(figsize=(12,12))\n",
    "plt.imshow((np.abs(a4)**0.5))\n",
    "plt.colorbar()\n",
    "plt.tight_layout(); plt.show(); plt.close()"
   ]
  },
  {
   "cell_type": "code",
   "execution_count": null,
   "metadata": {
    "collapsed": true
   },
   "outputs": [],
   "source": [
    "# Note, there are a number of things we can do to make this a more realistic exercise.\n",
    "# If we have time, we'll investigate implementing some:\n",
    "# \n",
    "# 1) Add central obstruction from the secondary mirror blocking light to primary mirror.\n",
    "# 2) Add spiders that support the secondary mirror in place.\n",
    "# 3) Add a faint companion.\n",
    "# 4) Add phase noise, produce speckles?\n",
    "# 5) Add tons of phase noise, make a seeing-limited image."
   ]
  }
 ],
 "metadata": {
  "kernelspec": {
   "display_name": "Python 2",
   "language": "python",
   "name": "python2"
  },
  "language_info": {
   "codemirror_mode": {
    "name": "ipython",
    "version": 2
   },
   "file_extension": ".py",
   "mimetype": "text/x-python",
   "name": "python",
   "nbconvert_exporter": "python",
   "pygments_lexer": "ipython2",
   "version": "2.7.13"
  }
 },
 "nbformat": 4,
 "nbformat_minor": 2
}
